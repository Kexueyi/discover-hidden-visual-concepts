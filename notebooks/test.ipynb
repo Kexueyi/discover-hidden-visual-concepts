{
 "cells": [
  {
   "cell_type": "code",
   "execution_count": 5,
   "metadata": {},
   "outputs": [
    {
     "name": "stderr",
     "output_type": "stream",
     "text": [
      "/home/xueyi/.conda/envs/findvis/lib/python3.9/site-packages/tqdm/auto.py:21: TqdmWarning: IProgress not found. Please update jupyter and ipywidgets. See https://ipywidgets.readthedocs.io/en/stable/user_install.html\n",
      "  from .autonotebook import tqdm as notebook_tqdm\n"
     ]
    },
    {
     "name": "stdout",
     "output_type": "stream",
     "text": [
      "Loading dataset: objects\n",
      "Dataset length: 3406\n",
      "Sample image shape: (500, 500)\n",
      "Sample label: 0\n"
     ]
    }
   ],
   "source": [
    "import os\n",
    "os.chdir(\"..\")\n",
    "\n",
    "from src.datasets import object_dataset\n",
    "from src.utils.dataset_loader import get_dataset\n",
    "\n",
    "# Test KonkObjectDataset\n",
    "dataset = get_dataset(\n",
    "    dataset_name='objects',\n",
    "    transform=None,  # Add a transform if needed\n",
    "    split='train'  # or 'val' or None\n",
    ")\n",
    "\n",
    "# Verify dataset properties\n",
    "print(f\"Dataset length: {len(dataset)}\")\n",
    "sample_image, sample_label = dataset[0]\n",
    "print(f\"Sample image shape: {sample_image.size}\")\n",
    "print(f\"Sample label: {sample_label}\")"
   ]
  }
 ],
 "metadata": {
  "kernelspec": {
   "display_name": "findvis",
   "language": "python",
   "name": "python3"
  },
  "language_info": {
   "codemirror_mode": {
    "name": "ipython",
    "version": 3
   },
   "file_extension": ".py",
   "mimetype": "text/x-python",
   "name": "python",
   "nbconvert_exporter": "python",
   "pygments_lexer": "ipython3",
   "version": "3.9.21"
  }
 },
 "nbformat": 4,
 "nbformat_minor": 2
}
