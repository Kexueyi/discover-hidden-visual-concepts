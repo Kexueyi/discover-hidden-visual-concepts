{
 "cells": [
  {
   "cell_type": "code",
   "execution_count": 1,
   "metadata": {},
   "outputs": [],
   "source": [
    "import os\n",
    "os.chdir('..')\n",
    "\n",
    "import pandas as pd\n",
    "import matplotlib.pyplot as plt\n",
    "import seaborn as sns\n",
    "import numpy as np\n",
    "import torch"
   ]
  },
  {
   "cell_type": "code",
   "execution_count": 4,
   "metadata": {},
   "outputs": [
    {
     "name": "stdout",
     "output_type": "stream",
     "text": [
      "Loading checkpoint from cvcl_s_dino_resnext50_embedding.ckpt\n",
      "Loading checkpoint from /home/xke001/.cache/huggingface/hub/models--wkvong--cvcl_s_dino_resnext50_embedding/snapshots/f50eaa0c50a6076a5190b1dd52aeeb6c3e747045/cvcl_s_dino_resnext50_embedding.ckpt\n"
     ]
    },
    {
     "name": "stderr",
     "output_type": "stream",
     "text": [
      "Lightning automatically upgraded your loaded checkpoint from v1.5.8 to v2.2.1. To apply the upgrade to your files permanently, run `python -m pytorch_lightning.utilities.upgrade_checkpoint ../../.cache/huggingface/hub/models--wkvong--cvcl_s_dino_resnext50_embedding/snapshots/f50eaa0c50a6076a5190b1dd52aeeb6c3e747045/cvcl_s_dino_resnext50_embedding.ckpt`\n"
     ]
    },
    {
     "name": "stdout",
     "output_type": "stream",
     "text": [
      "Successfully loaded cvcl-resnext\n",
      "Successfully loaded CLIP-RN50\n",
      "Loading weights from: experiments/stitch_layer/stitch_cvcl_clip_layer1_0_imagenet_val_2024-12-19-19-00-33/best_model.pth\n",
      "Map_file is None, predicting without neuron concepts\n",
      "Trial file already exists: data/trials/seen_object_5_4_0.json, skipping generation.\n",
      "Loading dataset: object-trial\n"
     ]
    },
    {
     "name": "stderr",
     "output_type": "stream",
     "text": [
      "Trial Prediction: 100%|██████████| 38/38 [02:04<00:00,  3.27s/it]\n"
     ]
    },
    {
     "name": "stdout",
     "output_type": "stream",
     "text": [
      "Overall Accuracy updated in ./results/overall_acc_v2.csv\n",
      "Results saved to ./experiments/trial/stitch_cvcl_clip_layer1_custom_2024-12-19-23-08-22\n",
      "Loading checkpoint from cvcl_s_dino_resnext50_embedding.ckpt\n",
      "Loading checkpoint from /home/xke001/.cache/huggingface/hub/models--wkvong--cvcl_s_dino_resnext50_embedding/snapshots/f50eaa0c50a6076a5190b1dd52aeeb6c3e747045/cvcl_s_dino_resnext50_embedding.ckpt\n"
     ]
    },
    {
     "name": "stderr",
     "output_type": "stream",
     "text": [
      "Lightning automatically upgraded your loaded checkpoint from v1.5.8 to v2.2.1. To apply the upgrade to your files permanently, run `python -m pytorch_lightning.utilities.upgrade_checkpoint ../../.cache/huggingface/hub/models--wkvong--cvcl_s_dino_resnext50_embedding/snapshots/f50eaa0c50a6076a5190b1dd52aeeb6c3e747045/cvcl_s_dino_resnext50_embedding.ckpt`\n"
     ]
    },
    {
     "name": "stdout",
     "output_type": "stream",
     "text": [
      "Successfully loaded cvcl-resnext\n",
      "Successfully loaded CLIP-RN50\n",
      "Loading weights from: experiments/stitch_layer/stitch_cvcl_clip_layer2_0_imagenet_val_2024-12-19-17-25-26/best_model.pth\n",
      "Map_file is None, predicting without neuron concepts\n",
      "Trial file already exists: data/trials/seen_object_5_4_0.json, skipping generation.\n",
      "Loading dataset: object-trial\n"
     ]
    },
    {
     "name": "stderr",
     "output_type": "stream",
     "text": [
      "Trial Prediction: 100%|██████████| 38/38 [02:03<00:00,  3.24s/it]\n"
     ]
    },
    {
     "name": "stdout",
     "output_type": "stream",
     "text": [
      "Overall Accuracy updated in ./results/overall_acc_v2.csv\n",
      "Results saved to ./experiments/trial/stitch_cvcl_clip_layer2_custom_2024-12-19-23-10-31\n",
      "Loading checkpoint from cvcl_s_dino_resnext50_embedding.ckpt\n",
      "Loading checkpoint from /home/xke001/.cache/huggingface/hub/models--wkvong--cvcl_s_dino_resnext50_embedding/snapshots/f50eaa0c50a6076a5190b1dd52aeeb6c3e747045/cvcl_s_dino_resnext50_embedding.ckpt\n"
     ]
    },
    {
     "name": "stderr",
     "output_type": "stream",
     "text": [
      "Lightning automatically upgraded your loaded checkpoint from v1.5.8 to v2.2.1. To apply the upgrade to your files permanently, run `python -m pytorch_lightning.utilities.upgrade_checkpoint ../../.cache/huggingface/hub/models--wkvong--cvcl_s_dino_resnext50_embedding/snapshots/f50eaa0c50a6076a5190b1dd52aeeb6c3e747045/cvcl_s_dino_resnext50_embedding.ckpt`\n"
     ]
    },
    {
     "name": "stdout",
     "output_type": "stream",
     "text": [
      "Successfully loaded cvcl-resnext\n",
      "Successfully loaded CLIP-RN50\n",
      "Loading weights from: experiments/stitch_layer/stitch_cvcl_clip_layer3_0_imagenet_val_2024-12-19-16-38-35/best_model.pth\n",
      "Map_file is None, predicting without neuron concepts\n",
      "Trial file already exists: data/trials/seen_object_5_4_0.json, skipping generation.\n",
      "Loading dataset: object-trial\n"
     ]
    },
    {
     "name": "stderr",
     "output_type": "stream",
     "text": [
      "Trial Prediction: 100%|██████████| 38/38 [02:02<00:00,  3.22s/it]\n"
     ]
    },
    {
     "name": "stdout",
     "output_type": "stream",
     "text": [
      "Overall Accuracy updated in ./results/overall_acc_v2.csv\n",
      "Results saved to ./experiments/trial/stitch_cvcl_clip_layer3_custom_2024-12-19-23-12-40\n",
      "Loading checkpoint from cvcl_s_dino_resnext50_embedding.ckpt\n",
      "Loading checkpoint from /home/xke001/.cache/huggingface/hub/models--wkvong--cvcl_s_dino_resnext50_embedding/snapshots/f50eaa0c50a6076a5190b1dd52aeeb6c3e747045/cvcl_s_dino_resnext50_embedding.ckpt\n"
     ]
    },
    {
     "name": "stderr",
     "output_type": "stream",
     "text": [
      "Lightning automatically upgraded your loaded checkpoint from v1.5.8 to v2.2.1. To apply the upgrade to your files permanently, run `python -m pytorch_lightning.utilities.upgrade_checkpoint ../../.cache/huggingface/hub/models--wkvong--cvcl_s_dino_resnext50_embedding/snapshots/f50eaa0c50a6076a5190b1dd52aeeb6c3e747045/cvcl_s_dino_resnext50_embedding.ckpt`\n"
     ]
    },
    {
     "name": "stdout",
     "output_type": "stream",
     "text": [
      "Successfully loaded cvcl-resnext\n",
      "Successfully loaded CLIP-RN50\n",
      "Loading weights from: experiments/stitch_layer/stitch_cvcl_clip_layer4_0_imagenet_val_2024-12-19-14-46-27/best_model.pth\n",
      "Map_file is None, predicting without neuron concepts\n",
      "Trial file already exists: data/trials/seen_object_5_4_0.json, skipping generation.\n",
      "Loading dataset: object-trial\n"
     ]
    },
    {
     "name": "stderr",
     "output_type": "stream",
     "text": [
      "Trial Prediction: 100%|██████████| 38/38 [02:02<00:00,  3.22s/it]\n"
     ]
    },
    {
     "name": "stdout",
     "output_type": "stream",
     "text": [
      "Overall Accuracy updated in ./results/overall_acc_v2.csv\n",
      "Results saved to ./experiments/trial/stitch_cvcl_clip_layer4_custom_2024-12-19-23-14-49\n"
     ]
    }
   ],
   "source": [
    "from utils.dataset_loader import get_dataset, trial_collate_fn\n",
    "from torch.utils.data import DataLoader\n",
    "from predictors import TrialPredictor\n",
    "from models.feature_extractor import FeatureExtractor\n",
    "from utils.generate_trials import get_trials\n",
    "from utils.utils import set_seed, save_trial_results, get_results_dir\n",
    "from utils.model_loader import get_default_full_layers\n",
    "\n",
    "for layer in [1, 2, 3, 4]:\n",
    "    args = {\n",
    "        'model': f'stitch_cvcl_clip_layer{layer}',\n",
    "        'trial_type': 'custom',\n",
    "        'class_type': 'seen', # as based model txt encoder in CVCL is not trained on unseen classes\n",
    "        'seed': 0,\n",
    "        'num_img_per_trial': 4,\n",
    "        'num_trials_per_image': 5,\n",
    "        'map_file': None,\n",
    "        'object_resize': False,\n",
    "        'batch_size': 128,\n",
    "        'device': 'cuda:1',\n",
    "        'results_root_dir': './experiments/trial/',\n",
    "        'csv_save_path': './results/overall_acc_v2.csv',\n",
    "    }\n",
    "    set_seed(args['seed'])\n",
    "    from utils.model_loader import load_model\n",
    "\n",
    "    model_name = args['model']\n",
    "    model, transform = load_model(model_name, seed=args['seed'], device=args['device'])\n",
    "\n",
    "    trial_path = get_trials(args['trial_type'], args['seed'], args['num_img_per_trial'], args['num_trials_per_image'], args['class_type'], args['map_file'], args['object_resize'])\n",
    "    data = get_dataset(dataset_name='object-trial', trials_file_path=trial_path, transform=transform)\n",
    "    dataloader = DataLoader(data, batch_size=args['batch_size'], shuffle=False, num_workers=4, collate_fn=trial_collate_fn)\n",
    "\n",
    "\n",
    "\n",
    "    ### STEP 3: Initialize the trial classifier\n",
    "    feature_extractor = FeatureExtractor(model_name, model, args['device'])\n",
    "    classifier = TrialPredictor(feature_extractor)\n",
    "\n",
    "    ### STEP 4: Predict the trial results\n",
    "    if args['map_file'] is not None: # using neurons\n",
    "        layers = get_default_full_layers(model_name) if args['layers'] is None else args['layers'].split(\",\")\n",
    "        predictions = classifier.predict_using_neurons(dataloader, layers, args['map_file'], args['top_k'])\n",
    "    else: \n",
    "        predictions = classifier.predict(dataloader) \n",
    "\n",
    "    ### STEP 5: Save the results\n",
    "    results_dir = get_results_dir(args, args['results_root_dir'])  # Changed args_dict to args\n",
    "    save_trial_results(results_dir, args, predictions, args['csv_save_path'])  # Changed args_dict to args"
   ]
  },
  {
   "cell_type": "code",
   "execution_count": 3,
   "metadata": {},
   "outputs": [
    {
     "name": "stderr",
     "output_type": "stream",
     "text": [
      "/tmp/ipykernel_107231/3159964485.py:25: MatplotlibDeprecationWarning: The seaborn styles shipped by Matplotlib are deprecated since 3.6, as they no longer correspond to the styles shipped by seaborn. However, they will remain available as 'seaborn-v0_8-<style>'. Alternatively, directly use the seaborn API instead.\n",
      "  plt.style.use('seaborn')\n"
     ]
    },
    {
     "data": {
      "image/png": "[encoded data removed]",
      "text/plain": [
       "<Figure size 1000x600 with 1 Axes>"
      ]
     },
     "metadata": {},
     "output_type": "display_data"
    }
   ],
   "source": [
    "\n",
    "# 读取数据\n",
    "df = pd.read_csv('stitch.csv')\n",
    "\n",
    "# 只选择seen class type的数据\n",
    "df_seen = df[df['class_type'] == 'seen']\n",
    "\n",
    "# 计算每个模型和层的平均准确率\n",
    "results = []\n",
    "for layer in [1, 2, 3]:\n",
    "    # CVCL-CLIP\n",
    "    cvcl_clip = df_seen[df_seen['model'] == f'cvcl-clip-layer{layer}']['overall_accuracy'].mean()\n",
    "    # CLIP-CVCL\n",
    "    clip_cvcl = df_seen[df_seen['model'] == f'clip-cvcl-layer{layer}']['overall_accuracy'].mean()\n",
    "    results.append([f'Layer {layer}', cvcl_clip, clip_cvcl])\n",
    "\n",
    "# 创建DataFrame\n",
    "results_df = pd.DataFrame(results, columns=['Layer', 'CVCL-CLIP', 'CLIP-CVCL'])\n",
    "\n",
    "# 设置绘图风格\n",
    "plt.style.use('seaborn')\n",
    "fig, ax = plt.subplots(figsize=(10, 6))\n",
    "\n",
    "# 设置bar的位置\n",
    "x = np.arange(len(results_df['Layer']))\n",
    "width = 0.35\n",
    "\n",
    "# 绘制柱状图\n",
    "ax.bar(x - width/2, results_df['CVCL-CLIP'], width, label='CVCL-CLIP', color='skyblue')\n",
    "ax.bar(x + width/2, results_df['CLIP-CVCL'], width, label='CLIP-CVCL', color='lightcoral')\n",
    "\n",
    "# 设置图表属性\n",
    "ax.set_ylabel('Accuracy')\n",
    "ax.set_title('Model Performance Comparison (Seen Classes)')\n",
    "ax.set_xticks(x)\n",
    "ax.set_xticklabels(results_df['Layer'])\n",
    "ax.legend()\n",
    "\n",
    "# 添加数值标签\n",
    "def add_value_labels(ax, spacing=5):\n",
    "    for rect in ax.patches:\n",
    "        y_value = rect.get_height()\n",
    "        x_value = rect.get_x() + rect.get_width()/2\n",
    "\n",
    "        label = f'{y_value:.2f}'\n",
    "        ax.annotate(label, (x_value, y_value), xytext=(0, spacing),\n",
    "                   textcoords=\"offset points\", ha='center', va='bottom')\n",
    "\n",
    "add_value_labels(ax)\n",
    "\n",
    "plt.tight_layout()\n",
    "plt.show()"
   ]
  }
 ],
 "metadata": {
  "kernelspec": {
   "display_name": "Python 3",
   "language": "python",
   "name": "python3"
  },
  "language_info": {
   "codemirror_mode": {
    "name": "ipython",
    "version": 3
   },
   "file_extension": ".py",
   "mimetype": "text/x-python",
   "name": "python",
   "nbconvert_exporter": "python",
   "pygments_lexer": "ipython3",
   "version": "3.8.19"
  }
 },
 "nbformat": 4,
 "nbformat_minor": 2
}
